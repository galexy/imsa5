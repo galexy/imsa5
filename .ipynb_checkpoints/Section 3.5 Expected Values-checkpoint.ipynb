{
 "cells": [
  {
   "cell_type": "markdown",
   "metadata": {},
   "source": [
    "***3.5.1*** Recall the game of Keno described in Question 3.2.26. The following are the all the payoffs on a $1 wager where the player has bet on ten numbers. Calculate E(X), where the random variable X denotes the amount of money won.\n",
    "\n",
    "|Number of Correct Guesses|Payoff|Probability   |\n",
    "|:-----------------------:|-----:|:------------:|\n",
    "|<5|-$ 1|.935|\n",
    "|5|2|.0514|\n",
    "|6|18|.0115|\n",
    "|7|180|.0016|\n",
    "|8|1,300| 1.35 x 10^-4 |\n",
    "|9|2,600| 6.12 x 10^-6 |\n",
    "|10|10,000| 1.12 x 10^-7 |"
   ]
  },
  {
   "cell_type": "code",
   "execution_count": 7,
   "metadata": {
    "collapsed": false
   },
   "outputs": [
    {
     "data": {
      "text/html": [
       "<table>\n",
       "<tbody>\n",
       "\t<tr><td>-0.144668</td></tr>\n",
       "</tbody>\n",
       "</table>\n"
      ],
      "text/latex": [
       "\\begin{tabular}{l}\n",
       "\t -0.144668\\\\\n",
       "\\end{tabular}\n"
      ],
      "text/markdown": [
       "-0.144668"
      ],
      "text/plain": [
       "          [,1]\n",
       "[1,] -0.144668"
      ]
     },
     "execution_count": 7,
     "metadata": {},
     "output_type": "execute_result"
    }
   ],
   "source": [
    "c(-1, 2, 18, 180, 1300, 2600, 10000) %*% c(.935, .0514, .0115, .0016, 1.35e-4,6.12e-6,1.12e-7)"
   ]
  },
  {
   "cell_type": "markdown",
   "metadata": {},
   "source": [
    "***3.5.3*** The pdf describing the daily profit, X, earned by Acme Industries was derived in Example 3.3.7. Finthe company's *average* daily profit.\n",
    "\n",
    "\n",
    "|No. Defectives|k Profit| &nbsp; $p_{x}(k)$ &nbsp; |\n",
    "|:------------:|-------:|:------------------------:|\n",
    "|0|\\$30,000|0.857375|\n",
    "|1|\\$18,000|0.135375|\n",
    "|2|\\$6,000|0.007125|\n",
    "|3|-\\$6,000|0.000125|"
   ]
  },
  {
   "cell_type": "code",
   "execution_count": 8,
   "metadata": {
    "collapsed": false
   },
   "outputs": [
    {
     "data": {
      "text/html": [
       "<table>\n",
       "<tbody>\n",
       "\t<tr><td>28200</td></tr>\n",
       "</tbody>\n",
       "</table>\n"
      ],
      "text/latex": [
       "\\begin{tabular}{l}\n",
       "\t 28200\\\\\n",
       "\\end{tabular}\n"
      ],
      "text/markdown": [
       "28200"
      ],
      "text/plain": [
       "      [,1]\n",
       "[1,] 28200"
      ]
     },
     "execution_count": 8,
     "metadata": {},
     "output_type": "execute_result"
    }
   ],
   "source": [
    "c(30000, 18000, 6000, -6000) %*% c(0.857375, 0.135375, 0.007125, 0.000125)"
   ]
  },
  {
   "cell_type": "markdown",
   "metadata": {},
   "source": [
    "***3.5.3*** Supoose a life insurance company sells a \\$50,000, five-year term policy to a twenty-five-year-old woman. At the beginning of each year the woman is alive, the company collects a premium of \\$P. The probability that the woman dies and the company pays the \\$50,000 is given in the table below. So, for example, in Year 3, the company losses \\$50,000-\\$P with probability 0.00054 and gains \\$P with probability 1 - 0.00054 = 0.99946. If the company expects to make \\$1000 on this policy, what should P be?\n",
    "\n",
    "|Year|Probability of Payoff|\n",
    "|:--:|:-------------------:|\n",
    "|1|0.00051|\n",
    "|2|0.00052|\n",
    "|3|0.00054|\n",
    "|4|0.00056|\n",
    "|5|0.00059|"
   ]
  },
  {
   "cell_type": "code",
   "execution_count": null,
   "metadata": {
    "collapsed": true
   },
   "outputs": [],
   "source": []
  },
  {
   "cell_type": "markdown",
   "metadata": {},
   "source": [
    "***3.5.7*** Records show that 642 new students have just entered a certain Florida school district. Of those 642, a total of 125 are not adequately vaccinated. The district's physician has shceduled a day for students to receive whatever shots they might need. On any given day, though, 12% of the district's students are likely to be absent. How many new students, then, can be expected to remain inadequately vaccinated?\n",
    "\n",
    "Assuming those that are not adequately vaccinated are likely to be absent at the overall district's rate of 12%, we can assume that the number of those 125 students that will be absent on a given day can be model with a bionomial distribution. The expected value of that distribution is $n \\times p$."
   ]
  },
  {
   "cell_type": "code",
   "execution_count": 10,
   "metadata": {
    "collapsed": false
   },
   "outputs": [
    {
     "data": {
      "text/html": [
       "15"
      ],
      "text/latex": [
       "15"
      ],
      "text/markdown": [
       "15"
      ],
      "text/plain": [
       "[1] 15"
      ]
     },
     "execution_count": 10,
     "metadata": {},
     "output_type": "execute_result"
    }
   ],
   "source": [
    "125 * 0.12"
   ]
  },
  {
   "cell_type": "markdown",
   "metadata": {},
   "source": [
    "***3.5.9*** Recal Question 3.4.4, where the length of time Y (in years) that a malaria patient spends in remission has pdf $f_{y}(y) = \\dfrac{1}{9} y^2, 0 <= y <= 3$. What is the average lenth of time that such a patient spends in remission?\n",
    "\n",
    "$$\\int_{0}^{3} y \\dfrac{1}{9} y^2 dy = \\int_{0}^{3} \\dfrac{1}{9} y^3 dy = \\dfrac{1}{36}y^4 \\Big|_{0}^{3} = \\dfrac{81}{36} = \\dfrac{9}{4}$$"
   ]
  },
  {
   "cell_type": "markdown",
   "metadata": {},
   "source": [
    "***3.5.11*** Show that the expected value associated wtih the exponential distribution, $f_{Y}(y)=\\lambda e^{-\\lambda y}, y > 0$, is $\\dfrac{1}{\\lambda}$, where $\\lambda$ is a positive constant.\n",
    "\n",
    "$$E(Y) = \\int_{0}^{\\infty} y \\lambda e^{-\\lambda y} dy$$\n",
    "\n",
    "Let $w = y \\lambda$, so that $du = \\lambda dy$. Then\n",
    "\n",
    "$$E(Y) = \\dfrac{1}{\\lambda}\\int_{0}^{\\infty} w e^{-w} dw$$\n",
    "\n",
    "Setting $u = w$ and $dv = e^{-u}dw$ and integrating by parts gives\n",
    "\n",
    "$$E(Y) = \\dfrac{1}{\\lambda}[-we^{-w} - e^{-w}]\\Big|_{0}^{\\infty} = \\dfrac{1}{\\lambda}$$"
   ]
  },
  {
   "cell_type": "markdown",
   "metadata": {},
   "source": [
    "***3.5.13*** Based on recent experience, ten-year-old passenger cars going through a motor vehicle inspection station have an 80% chance of passing the emissions test. Suppose that two hundred such cards will be checked out next week. Write two formulas that show the number of cars that are expected to pass.\n",
    "\n",
    "$$E(x) = n \\times p = 200 \\times 0.80 = 160$$\n",
    "\n",
    "$$E(x) = \\sum_{k=0}^{200} k \\times p_{X}(k) = \\sum_{k=0}^{200} k \\binom{200}{k}(0.8)^k(1-0.8)^{200-k}$$"
   ]
  },
  {
   "cell_type": "markdown",
   "metadata": {},
   "source": [
    "***3.5.15*** A city has 74,806 registered automobiles. Each is required to display a bumper decal showing that the owner paid an annual wheel tax of \\$50. By law, new decals need to be purchased during the month of the owner's birthday. How much while tax revenue can the city expect to receive in November?\n",
    "\n",
    "Assuming that births are evenly distributed throughout the year, then there are $\\dfrac{3}{365} \\times 74,608 = 6132$ registered drivers born in November, which should yield \\$306,600 in revenue."
   ]
  },
  {
   "cell_type": "markdown",
   "metadata": {},
   "source": [
    "***3.5.17*** An urn contains four chips numbered 1 through 4. Two are drawn without replacement. Let the random variable $X$ denote the larger of the two. Find $E(X)$."
   ]
  },
  {
   "cell_type": "markdown",
   "metadata": {},
   "source": [
    "***3.5.19*** How much would you have to ante to make the St. Petersburg game \"fair\" if the most you could win was \\$1000? That is, the payoffs are \\$2^k for $1 <= k <= 9$, and \\$1000 for $k >= 10$.\n",
    "\n",
    "$$\n",
    "\\begin{align}\n",
    "P(X>=10) &= 1 - P(X<10) \\nonumber \\\\\n",
    "           &= 1 - \\sum_{k=1}^{9} \\dfrac{1}{2^k} \\nonumber \\\\\n",
    "           &= 1 - \\dfrac{256 + 128 + 64 + 32 + 16 + 8 + 4 + 2 + 1}{512} \\nonumber \\\\\n",
    "           &= \\dfrac{1}{512} \\nonumber \\\\\n",
    "\\therefore E(X) &= 9 + \\dfrac{1}{512} * 1000 = 10.95 \n",
    "\\end{align}\n",
    "$$\n",
    "\n"
   ]
  },
  {
   "cell_type": "markdown",
   "metadata": {},
   "source": [
    "***3.5.21*** A fair die is rolled three times. Let $X$ denote the number of different faces showing, $X$ = 1,2,3. Find $E(X)$."
   ]
  },
  {
   "cell_type": "markdown",
   "metadata": {},
   "source": [
    "***3.5.23*** Suppose that two evenly matched teams are playing in the World Series. On the average, how many games will be played? (The winner is the first team to get four victories.) Assume that each game is an independent event."
   ]
  },
  {
   "cell_type": "markdown",
   "metadata": {},
   "source": [
    "\n",
    "***3.5.25*** A random sample of size $n$ is drawn without replacement from an urn containing $r$ red chips and $w$ white chips. Define the random variable $X$ to be the number of red chips in the sample. Use the summation technique described in Theorem 3.5.1 to prove that $E(X) = rn / (r + w)$."
   ]
  },
  {
   "cell_type": "markdown",
   "metadata": {},
   "source": [
    "***3.5.27*** Find the median for each of the following pdfs:\n",
    "\n",
    "1. $f_{Y}(y) = (\\theta + 1)y^\\theta, 0 <= y <= 1$,  where $ \\theta > 0$\n",
    "1. $f_{Y}(y) = y + \\dfrac{1}{2}, 0 <= y <= 1$"
   ]
  },
  {
   "cell_type": "markdown",
   "metadata": {},
   "source": [
    "***3.5.29*** A typical day's production of a certain electronic componet is twelve. The probability that one of these componets needs rework is 0.11. Each componet needing rework costs \\$100. What is the average daily cost of defective components?\n",
    "\n",
    "\n",
    "Let $X$ represent the number of defective components per day. This random variable is binomial. The cost of defective components is therefore $100 \\cdot X$.\n",
    "\n",
    "$$E(100 \\cdot X) = 100E(X) = 100 \\cdot n \\cdot p = 100 \\cdot 12 \\cdot 0.11 = 132.$$"
   ]
  },
  {
   "cell_type": "markdown",
   "metadata": {},
   "source": [
    "***3.5.31*** A tool and die company makes castings for steel stress-monitoring guages. Their annual proft, Q, in hundreds of thousands of dollars, can be expressed as a function of product demand, $y$:\n",
    "$$Q(y) = 2(1 - e^{-2y})$$\n",
    "Suppose that the demand (in thousands) for their castings follows an expoential pdf, $f_{Y}(y) = 6e^{-6y}, y > 0$. Find the company's expected profit.\n",
    "\n",
    "$$\\begin{align}\n",
    "E[Q(y)] &= \\int_{0}^{\\infty} Q(y) \\cdot f_{Y}(y) dy \\nonumber \\\\\n",
    "&= \\int_{0}^{\\infty} 2(1-e^{-2y}) \\cdot 6e^{-6y} dy \\nonumber \\\\\n",
    "&= \\int_{0}^{\\infty} 12(e^{-6y} - e^{-8y}) dy \\nonumber \\\\\n",
    "&= 12\\int_{0}^{\\infty} (e^{-6y} - e^{-8y}) dy \\nonumber \\\\\n",
    "&= 12\\Big[-\\dfrac{1}{6}e^{-6y} + \\dfrac{1}{8} e^{-8y}\\Big|_{0}^{\\infty}\\Big] = 12 \\cdot \\Big(\\dfrac{1}{6} - \\dfrac{1}{8}\\Big) = \\dfrac{1}{2}\n",
    "\\end{align}$$\n",
    "\n",
    "Expected profit is \\$50,000."
   ]
  },
  {
   "cell_type": "markdown",
   "metadata": {},
   "source": [
    "***3.5.33*** Grades on the last Economics 301 exam were not very good. Graphed, their distribution had a shape similar to the pdf\n",
    "$$f_{Y}(y) = \\dfrac{1}{5000}(100 - y), 0 <= y <= 100$$\n",
    "As a way of \"curving\" the results, the professor announces that he will replace each person's grade, Y, with a new grade, $g(Y)$, where $g(Y) = 10\\sqrt{Y}$. Will the professor's strategy be successful in raising the class average above 60?\n",
    "\n",
    "$$\\begin{align}\n",
    "E[g(Y)] &= \\sum_{k=0}^{100} 10\\sqrt{k} \\dfrac{1}{5000}(100 - k) \\nonumber \\\\\n",
    "&=\\dfrac{1}{500}\\sum_{k=0}^{100}(100\\sqrt{k} - k\\sqrt{k})\n",
    "\\end{align}$$"
   ]
  },
  {
   "cell_type": "markdown",
   "metadata": {},
   "source": [
    "***3.5.35*** The hypotenuse, Y, of the isosceles right triangle show is a random variable having a uniform pdf over the interval [6, 10]. Calculte the expected value of the triangle's area. Do not leave the answer as a function of a."
   ]
  }
 ],
 "metadata": {
  "kernelspec": {
   "display_name": "R",
   "language": "R",
   "name": "ir"
  },
  "language_info": {
   "codemirror_mode": "r",
   "file_extension": ".r",
   "mimetype": "text/x-r-source",
   "name": "R",
   "pygments_lexer": "r",
   "version": "3.2.1"
  }
 },
 "nbformat": 4,
 "nbformat_minor": 0
}
