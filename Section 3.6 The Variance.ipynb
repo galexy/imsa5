{
 "cells": [
  {
   "cell_type": "markdown",
   "metadata": {},
   "source": [
    "***3.6.1*** Find $Var(X)$ for the urn problem for Example 3.6.1 if the sampling id one with replacement.\n",
    "\n",
    "$$\\mu = n \\cdot p = 2 \\cdot \\dfrac{2}{5} = 0.8$$\n",
    "&nbsp;\n",
    "$$\\begin{align}\n",
    "Var(X) &= E[(X - \\mu)^2] = \\sum(x-\\mu)^2 \\cdot f_{X}(x) \\nonumber \\\\\n",
    "       &= (0-0.8)^2 \\cdot \\binom {2}{0} (0.4)^0 (0.6)^2 + (1-0.8)^2 \\cdot \\binom {2}{1} (0.4)^1 (0.6)^1 + (2-0.8)^2 \\cdot \\binom {2}{2} (0.4)^2 (0.6)^0 \\nonumber \\\\\n",
    "       &= 0.64 \\cdot 0.36 + 0.04 \\cdot 2 \\cdot 0.4 \\cdot 0.6 + 1.44 \\cdot 0.16 \\nonumber \\\\\n",
    "       &= 0.2304 + 0.0192 + 0.2304 = 0.48\n",
    "\\end{align}$$\n",
    "&nbsp;\n"
   ]
  },
  {
   "cell_type": "markdown",
   "metadata": {},
   "source": [
    "***3.6.3*** Ten equally qualified applicants, six men and four women, apply for three lab technician positions. Unable to justify choosing any of the applicants over all the others, the personnel director decides to select the three at random. Let $X$ denote the number of men hired. Compute the standard deviation of $X$.\n",
    "\n",
    "$$\\mu = n \\cdot p = 3 \\cdot \\ 0.6 = 1.8$$\n",
    "&nbsp;\n",
    "\n",
    "$$\\begin{align}\n",
    "E(X^2) &= \\sum x^2 \\cdot f_{X}(x) \\nonumber \\\\\n",
    "       &= (0)^2 \\cdot \\dfrac{\\binom{6}{0}\\binom{4}{3}}{\\binom{10}{3}}\n",
    "        + (1)^2 \\cdot \\dfrac{\\binom{6}{1}\\binom{4}{2}}{\\binom{10}{3}}\n",
    "        + (2)^2 \\cdot \\dfrac{\\binom{6}{2}\\binom{4}{1}}{\\binom{10}{3}}\n",
    "        + (3)^2 \\cdot \\dfrac{\\binom{6}{3}\\binom{4}{0}}{\\binom{10}{3}} \\nonumber \\\\\n",
    "       &= 0 + 0.3 + 2 + 1.5 \\nonumber \\\\\n",
    "       &= 3.8 \\nonumber \\\\\n",
    "Var(X) &= E(X^2) - \\mu^2 = 3.8 - 1.8^2 = 0.56 \\nonumber \\\\\n",
    "SD(X) &= \\sqrt{0.56} = 0.748\n",
    "\\end{align}$$\n",
    "\n",
    "The same thing computed in R"
   ]
  },
  {
   "cell_type": "code",
   "execution_count": 20,
   "metadata": {
    "collapsed": false
   },
   "outputs": [
    {
     "data": {
      "text/html": [
       "0.748331477354789"
      ],
      "text/latex": [
       "0.748331477354789"
      ],
      "text/markdown": [
       "0.748331477354789"
      ],
      "text/plain": [
       "[1] 0.7483315"
      ]
     },
     "execution_count": 20,
     "metadata": {},
     "output_type": "execute_result"
    }
   ],
   "source": [
    "sqrt(sum(dhyper(0:3, m=6, n=4, k=3) * (0:3)^2) - (3 * 0.6)^2)"
   ]
  },
  {
   "cell_type": "markdown",
   "metadata": {},
   "source": [
    "***3.6.5*** Use Theorem 3.6.1 to find the variance of the random variable Y, where\n",
    "\n",
    "$$f_{Y}(y) = 3(1-y)^2, 0 < y < 1$$\n",
    "\n",
    "&nbsp;\n",
    "\n",
    "$$\\begin{align}\n",
    "E[X] &= \\int_{0}^{1} 3y(1-y)^2 dy \\nonumber \\\\\n",
    "     &= \\int_{0}^{1} 3y(1-2y-y^2) dy \\nonumber \\\\\n",
    "     &= \\int_{0}^{1} 3y-6y^2-3y^3 dy \\nonumber \\\\\n",
    "     &= \\dfrac{3}{2}y^2 - \\dfrac{2}{3}y^3-\\dfrac{3}{4}y^4\\Big|_{0}^{1} \\nonumber \\\\\n",
    "     &= \\dfrac{12}{4} - \\dfrac{8}{4} - \\dfrac{3}{4} = \\dfrac{1}{4} \\nonumber \\\\   \n",
    "E[X^2] &= \\int_{0}^{1} 3y^2(1-y)^2 dy \\nonumber \\\\\n",
    "     &= \\int_{0}^{1} 3y^2(1-2y-y^2) dy \\nonumber \\\\\n",
    "     &= \\int_{0}^{1} 3y^2-2y^3-3y^4 dy \\nonumber \\\\\n",
    "     &= y^3 - \\dfrac{1}{2}y^4-\\dfrac{3}{5}y^5\\Big|_{0}^{1} \\nonumber \\\\\n",
    "     &= 1 - \\dfrac{1}{2} - \\dfrac{3}{5} = \\dfrac{1}{5} \\nonumber \\\\\n",
    "Var(X) &= E[X^2] - E[X]^2 = \\dfrac{1}{5} - (\\dfrac{1}{4})^2 = \\dfrac{1}{320} = \\dfrac{7}{80}\n",
    "\\end{align}$$"
   ]
  },
  {
   "cell_type": "markdown",
   "metadata": {},
   "source": [
    "***3.6.9*** Frankie and Johnny play the following game. Frankie selects a number at random from the interval [a, b]. Jonhnny, not knowing Frankie's number, is to pick a second number from that same interval and pay Frankie an amount, W, equal to the squared difference betwen the two [so 0 <="
   ]
  }
 ],
 "metadata": {
  "kernelspec": {
   "display_name": "R",
   "language": "R",
   "name": "ir"
  },
  "language_info": {
   "codemirror_mode": "r",
   "file_extension": ".r",
   "mimetype": "text/x-r-source",
   "name": "R",
   "pygments_lexer": "r",
   "version": "3.2.1"
  }
 },
 "nbformat": 4,
 "nbformat_minor": 0
}
